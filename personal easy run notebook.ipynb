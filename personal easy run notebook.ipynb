{
 "cells": [
  {
   "cell_type": "code",
   "execution_count": 1,
   "metadata": {},
   "outputs": [],
   "source": [
    "from PyQt5.QtWidgets import *\n",
    "from gui import *\n",
    "\n",
    "if __name__ == '__main__':\n",
    "    # var assignment prevents garbage collection\n",
    "    app = QApplication([])\n",
    "    gui = selectFileGUI()\n",
    "    try:\n",
    "        main = editFileGUI(gui.getSelectedPDFPath())\n",
    "    except(NoValidFilePathGiven):\n",
    "        pass"
   ]
  }
 ],
 "metadata": {
  "kernelspec": {
   "display_name": "Python 3",
   "language": "python",
   "name": "python3"
  },
  "language_info": {
   "codemirror_mode": {
    "name": "ipython",
    "version": 3
   },
   "file_extension": ".py",
   "mimetype": "text/x-python",
   "name": "python",
   "nbconvert_exporter": "python",
   "pygments_lexer": "ipython3",
   "version": "3.6.5"
  }
 },
 "nbformat": 4,
 "nbformat_minor": 2
}
